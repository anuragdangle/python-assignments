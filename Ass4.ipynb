{
 "cells": [
  {
   "cell_type": "code",
   "execution_count": null,
   "id": "83d5b0cc",
   "metadata": {},
   "outputs": [],
   "source": [
    "[] is use to represent list in python\n",
    "Index brackets are also used to write expressions that evaluate to a single item within a list, \n",
    "or a single character in a string"
   ]
  },
  {
   "cell_type": "code",
   "execution_count": 1,
   "id": "59a0e9d8",
   "metadata": {},
   "outputs": [
    {
     "name": "stdout",
     "output_type": "stream",
     "text": [
      "[2, 4, 'hello', 8, 10]\n"
     ]
    }
   ],
   "source": [
    "spam = [2,4,6,8,10]\n",
    "spam[2]='hello'\n",
    "print(spam)"
   ]
  },
  {
   "cell_type": "code",
   "execution_count": 10,
   "id": "097f0a76",
   "metadata": {},
   "outputs": [],
   "source": [
    "spam=['a','b','c','d']\n",
    "\n",
    "\n"
   ]
  },
  {
   "cell_type": "code",
   "execution_count": null,
   "id": "ecff083f",
   "metadata": {},
   "outputs": [],
   "source": [
    "3. int(int('3'*2)/11)\n",
    "33/11=3\n",
    "spam[3]=d"
   ]
  },
  {
   "cell_type": "code",
   "execution_count": null,
   "id": "3e6ab561",
   "metadata": {},
   "outputs": [],
   "source": [
    "4.spam[-1]=d"
   ]
  },
  {
   "cell_type": "code",
   "execution_count": null,
   "id": "635ff6a3",
   "metadata": {},
   "outputs": [],
   "source": [
    "spam[:2]=['a','b']"
   ]
  },
  {
   "cell_type": "code",
   "execution_count": 17,
   "id": "9ad59d3a",
   "metadata": {},
   "outputs": [
    {
     "data": {
      "text/plain": [
       "[3.14, 11, 'cat', 'True']"
      ]
     },
     "execution_count": 17,
     "metadata": {},
     "output_type": "execute_result"
    }
   ],
   "source": [
    "bacon=[3.14,'cat',11,'cat','True']\n",
    "bacon.remove('cat')\n",
    "bacon\n"
   ]
  },
  {
   "cell_type": "code",
   "execution_count": null,
   "id": "0fe103b7",
   "metadata": {},
   "outputs": [],
   "source": [
    "6.Ans is 1"
   ]
  },
  {
   "cell_type": "code",
   "execution_count": null,
   "id": "445ecf2f",
   "metadata": {},
   "outputs": [],
   "source": [
    "7.append will do bacon as [3.14,'cat',11,'cat','True',99]"
   ]
  },
  {
   "cell_type": "code",
   "execution_count": null,
   "id": "86e25112",
   "metadata": {},
   "outputs": [],
   "source": [
    "8.It will be [3.14, 11, 'cat', 'True']"
   ]
  },
  {
   "cell_type": "code",
   "execution_count": 18,
   "id": "efd82123",
   "metadata": {},
   "outputs": [
    {
     "ename": "SyntaxError",
     "evalue": "invalid syntax (45360352.py, line 1)",
     "output_type": "error",
     "traceback": [
      "\u001b[1;36m  Input \u001b[1;32mIn [18]\u001b[1;36m\u001b[0m\n\u001b[1;33m    9.list concatenation-\u001b[0m\n\u001b[1;37m      ^\u001b[0m\n\u001b[1;31mSyntaxError\u001b[0m\u001b[1;31m:\u001b[0m invalid syntax\n"
     ]
    }
   ],
   "source": [
    "9.list concatenation-\n",
    "the use of “+” operator can easily add the whole of one list behind the other list and hence perform the concatenation.\n",
    "test_list3 = [1, 4, 5, 6, 5]\n",
    "test_list4 = [3, 5, 7, 2, 5]\n",
    "  \n",
    "# using + operator to concat\n",
    "test_list3 = test_list3 + test_list4 is [1, 4, 5, 6, 5, 3, 5, 7, 2, 5]\n",
    "\n",
    "\n",
    "method 2. extend()\n",
    "test_list3 = [1, 4, 5, 6, 5]\n",
    "test_list4 = [3, 5, 7, 2, 5]\n",
    "  \n",
    "# using list.extend() to concat\n",
    "test_list3.extend(test_list4) is [1, 4, 5, 6, 5, 3, 5, 7, 2, 5]\n",
    "\n",
    "list replication-\n",
    "we can use copy or extend function to copy list to another list\n",
    "\n",
    "\n",
    "\n"
   ]
  },
  {
   "cell_type": "code",
   "execution_count": null,
   "id": "e6c5ce20",
   "metadata": {},
   "outputs": [],
   "source": [
    "# 10.\n",
    "testlist3 = [1, 4, 5, 6, 5]\n",
    "# append will add new element at end of list\n",
    "# insert will add new element at mentined position\n",
    "# Syntax\n",
    "# list.insert(pos, elmnt)\n",
    "# Parameter Values\n",
    "# Parameter\tDescription\n",
    "# pos\tRequired. A number specifying in which position to insert the value\n",
    "# elmnt\tRequired. An element of any type (string, number, object etc.)\n",
    "test2=testlist3.append(99)\n",
    "test3=testlist3.insert(2,45)\n",
    "print(test2)\n",
    "print(test3)"
   ]
  },
  {
   "cell_type": "code",
   "execution_count": null,
   "id": "e42dd354",
   "metadata": {},
   "outputs": [],
   "source": [
    "11.method1\n",
    "remove\n",
    "method 2\n",
    "pop"
   ]
  },
  {
   "cell_type": "code",
   "execution_count": null,
   "id": "b59de45c",
   "metadata": {},
   "outputs": [],
   "source": [
    "12.list is mutable while string is immutable\n"
   ]
  },
  {
   "cell_type": "code",
   "execution_count": null,
   "id": "b6b12d79",
   "metadata": {},
   "outputs": [],
   "source": [
    "\n",
    "13.List is a container to contain different types of objects and is used to iterate objects.\n",
    "List is useful for insertion and deletion operations.\n",
    "Example\n",
    "\n",
    "list = ['a', 'b', 'c', 'd', 'e']\n",
    "Tuples\n",
    "Tuple is also similar to list but contains immutable objects. Tuple processing is faster than List.\n",
    "Tuple is useful for readonly operations like accessing elements.\n",
    "Example\n",
    "\n",
    "tuples = ('a', 'b', 'c', 'd', 'e')"
   ]
  },
  {
   "cell_type": "code",
   "execution_count": 2,
   "id": "034cae35",
   "metadata": {},
   "outputs": [
    {
     "data": {
      "text/plain": [
       "tuple"
      ]
     },
     "execution_count": 2,
     "metadata": {},
     "output_type": "execute_result"
    }
   ],
   "source": [
    "t=(42,)\n",
    "type(t)\n"
   ]
  },
  {
   "cell_type": "code",
   "execution_count": null,
   "id": "507b08c4",
   "metadata": {},
   "outputs": [],
   "source": [
    "15.list to tuple \n",
    "eg\n",
    "list_names=['Meredith', 'Kristen', 'Wright', 'Franklin']\n",
    "tuple_names= tuple(list_names)\n",
    "\n",
    "tuple to list\n",
    "eg\n",
    "#initialize tuple\n",
    "aTuple = (True, 28, 'Tiger')\n",
    " \n",
    "#tuple to list\n",
    "aList = list(aTuple)"
   ]
  },
  {
   "cell_type": "code",
   "execution_count": null,
   "id": "f81ccc92",
   "metadata": {},
   "outputs": [],
   "source": [
    "17.# importing copy module\n",
    "import copy\n",
    "  \n",
    "# initializing list 1 \n",
    "li1 = [1, 2, [3,5], 4]\n",
    "  \n",
    "  \n",
    "# using copy for shallow copy  \n",
    "li2 = copy.copy(li1) \n",
    "  \n",
    "# using deepcopy for deepcopy  \n",
    "li3 = copy.deepcopy(li1) \n",
    "In the above code, the copy() returns a shallow copy of list and deepcopy() return a deep copy of list.\n",
    "\n",
    "In case of deep copy, a copy of object is copied in other object. It means that any changes made to a copy of object do not reflect in the original object.\n",
    "\n",
    " In case of shallow copy, a reference of object is copied in other object. It means that any changes made to a copy of object  \n",
    "    do reflect in the original object. In python, this is implemented using “copy()” function."
   ]
  },
  {
   "cell_type": "code",
   "execution_count": null,
   "id": "2e272506",
   "metadata": {},
   "outputs": [],
   "source": [
    "16.Variables will contain references to list values rather than list values themselves. But for strings and integer values, variables simply contain the string or integer value. Python uses references whenever variables must store values of mutable data types, such as lists or dictionaries. For values of immutable data types such as strings, integers, or tuples, Python variables will store the value itself.\n",
    "\n",
    "Although Python variables technically contain references to list or dictionary values, people often casually say that the variable contains the list or dictionary"
   ]
  }
 ],
 "metadata": {
  "kernelspec": {
   "display_name": "Python 3 (ipykernel)",
   "language": "python",
   "name": "python3"
  },
  "language_info": {
   "codemirror_mode": {
    "name": "ipython",
    "version": 3
   },
   "file_extension": ".py",
   "mimetype": "text/x-python",
   "name": "python",
   "nbconvert_exporter": "python",
   "pygments_lexer": "ipython3",
   "version": "3.9.12"
  }
 },
 "nbformat": 4,
 "nbformat_minor": 5
}
