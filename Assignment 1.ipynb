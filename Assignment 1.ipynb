{
 "cells": [
  {
   "cell_type": "code",
   "execution_count": null,
   "id": "ba94176e",
   "metadata": {},
   "outputs": [],
   "source": [
    "Values are 'hello' , -87.8 , 6\n",
    "Expressions are - , * , / , +"
   ]
  },
  {
   "cell_type": "code",
   "execution_count": null,
   "id": "0f54966a",
   "metadata": {},
   "outputs": [],
   "source": [
    "String is a value representing text under single/double quotes\n",
    "while variable is a name that can refer to any value\n",
    "integer, float,string or boolean.\n",
    "\n",
    "Eg, x ='Ineuron'\n",
    "Here x is variable storing string 'Ineuron'"
   ]
  },
  {
   "cell_type": "code",
   "execution_count": null,
   "id": "1346084b",
   "metadata": {},
   "outputs": [],
   "source": [
    "Text Type:\tstr\n",
    "Numeric Types:\tint, float, complex\n",
    "Sequence Types:\tlist, tuple, range\n",
    "Mapping Type:\tdict\n",
    "Set Types:\tset, frozenset\n",
    "Boolean Type:\tbool\n",
    "Binary Types:\tbytes, bytearray, memoryview"
   ]
  },
  {
   "cell_type": "code",
   "execution_count": null,
   "id": "114504b3",
   "metadata": {},
   "outputs": [],
   "source": [
    "An expression is a combination of operators and operands that is interpreted to produce some other value.\n",
    "Here +,-,/,* are operators and operands are values on which operation is performed."
   ]
  },
  {
   "cell_type": "code",
   "execution_count": null,
   "id": "59b05dd7",
   "metadata": {},
   "outputs": [],
   "source": [
    "A statement is an instruction that the Python interpreter can execute. \n",
    "\n",
    "An expression is a combination of values, variables, operators, and calls to functions. \n",
    "Expressions need to be evaluated. \n"
   ]
  },
  {
   "cell_type": "code",
   "execution_count": 5,
   "id": "110b22e4",
   "metadata": {},
   "outputs": [
    {
     "name": "stdout",
     "output_type": "stream",
     "text": [
      "22\n"
     ]
    }
   ],
   "source": [
    "bacon = 22\n",
    "bacon+1\n",
    "print(bacon)"
   ]
  },
  {
   "cell_type": "code",
   "execution_count": 7,
   "id": "3b17f115",
   "metadata": {},
   "outputs": [
    {
     "name": "stdout",
     "output_type": "stream",
     "text": [
      "spamspamspam\n",
      "spamspamspam\n"
     ]
    }
   ],
   "source": [
    "a='spam'+'spamspam'\n",
    "b='spam' *3\n",
    "print(a)\n",
    "print(b)"
   ]
  },
  {
   "cell_type": "code",
   "execution_count": null,
   "id": "10f8ed0b",
   "metadata": {},
   "outputs": [],
   "source": [
    "eggs is having alphabet set of characters while 100 is an integer and hence cannot be assigned as variable.\n",
    "Rules for Python variables:\n",
    "\n",
    "A variable name must start with a letter or the underscore character\n",
    "A variable name cannot start with a number\n",
    "A variable name can only contain alpha-numeric characters and underscores (A-z, 0-9, and _ )\n",
    "Variable names are case-sensitive (age, Age and AGE are three different variables)"
   ]
  },
  {
   "cell_type": "code",
   "execution_count": 15,
   "id": "1c24d6a1",
   "metadata": {},
   "outputs": [
    {
     "name": "stdout",
     "output_type": "stream",
     "text": [
      "3\n",
      "3.67\n",
      "3.8\n",
      "34\n",
      "34.0\n"
     ]
    }
   ],
   "source": [
    "a=3.6\n",
    "b=3.67\n",
    "c=3.8\n",
    "d='34'\n",
    "e='34'\n",
    "print(int(a))\n",
    "print(float(b))\n",
    "print(str(c))\n",
    "print(int(d))\n",
    "print(float(e))"
   ]
  },
  {
   "cell_type": "code",
   "execution_count": 16,
   "id": "40426658",
   "metadata": {},
   "outputs": [
    {
     "ename": "TypeError",
     "evalue": "can only concatenate str (not \"int\") to str",
     "output_type": "error",
     "traceback": [
      "\u001b[1;31m---------------------------------------------------------------------------\u001b[0m",
      "\u001b[1;31mTypeError\u001b[0m                                 Traceback (most recent call last)",
      "Input \u001b[1;32mIn [16]\u001b[0m, in \u001b[0;36m<cell line: 1>\u001b[1;34m()\u001b[0m\n\u001b[1;32m----> 1\u001b[0m a\u001b[38;5;241m=\u001b[39m\u001b[38;5;124;43m'\u001b[39;49m\u001b[38;5;124;43mI want to eat\u001b[39;49m\u001b[38;5;124;43m'\u001b[39;49m\u001b[43m \u001b[49m\u001b[38;5;241;43m+\u001b[39;49m\u001b[43m \u001b[49m\u001b[38;5;241;43m10\u001b[39;49m \u001b[38;5;241m+\u001b[39m \u001b[38;5;124m'\u001b[39m\u001b[38;5;124mpizzas\u001b[39m\u001b[38;5;124m'\u001b[39m\n",
      "\u001b[1;31mTypeError\u001b[0m: can only concatenate str (not \"int\") to str"
     ]
    }
   ],
   "source": [
    "a='I want to eat' + 10 + 'pizzas' "
   ]
  },
  {
   "cell_type": "code",
   "execution_count": 19,
   "id": "07d59f2f",
   "metadata": {},
   "outputs": [],
   "source": [
    "b='I want to eat' + '10' + 'pizzas' "
   ]
  },
  {
   "cell_type": "code",
   "execution_count": null,
   "id": "a84169fb",
   "metadata": {},
   "outputs": [],
   "source": [
    "because 10 is int and cannot concatenate with string"
   ]
  }
 ],
 "metadata": {
  "kernelspec": {
   "display_name": "Python 3 (ipykernel)",
   "language": "python",
   "name": "python3"
  },
  "language_info": {
   "codemirror_mode": {
    "name": "ipython",
    "version": 3
   },
   "file_extension": ".py",
   "mimetype": "text/x-python",
   "name": "python",
   "nbconvert_exporter": "python",
   "pygments_lexer": "ipython3",
   "version": "3.9.12"
  }
 },
 "nbformat": 4,
 "nbformat_minor": 5
}
