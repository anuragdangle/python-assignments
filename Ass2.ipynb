{
 "cells": [
  {
   "cell_type": "code",
   "execution_count": null,
   "id": "446edf62",
   "metadata": {},
   "outputs": [],
   "source": [
    "q2.three boolean operators:\n",
    "    1.and\n",
    "    2.not\n",
    "    3.or"
   ]
  },
  {
   "cell_type": "code",
   "execution_count": null,
   "id": "f7cfbde8",
   "metadata": {},
   "outputs": [],
   "source": [
    "q1.true or false \n",
    "we write as True or False"
   ]
  },
  {
   "cell_type": "code",
   "execution_count": null,
   "id": "fee30df9",
   "metadata": {},
   "outputs": [],
   "source": [
    "3.Operator\tDescription\tExample\n",
    "and \tReturns True if both statements are true\tx < 5 and  x < 10\t\n",
    "or\tReturns True if one of the statements is true\tx < 5 or x < 4\t\n",
    "not\tReverse the result, returns False if the result is true\tnot(x < 5 and x < 10)\t\n"
   ]
  },
  {
   "cell_type": "code",
   "execution_count": null,
   "id": "e621f17f",
   "metadata": {},
   "outputs": [],
   "source": [
    "5.Operator\tName\tExample\n",
    "==\tEqual\tx == y\t\n",
    "!=\tNot equal\tx != y\t\n",
    ">\tGreater than\tx > y\t\n",
    "<\tLess than\tx < y\t\n",
    ">=\tGreater than or equal to\tx >= y\t\n",
    "<=\tLess than or equal to\tx <= y"
   ]
  },
  {
   "cell_type": "code",
   "execution_count": null,
   "id": "273c4875",
   "metadata": {},
   "outputs": [],
   "source": [
    "4.values of \n",
    "a.(5 &gt; 4) and (3 == 5) is False\n",
    "b.False\n",
    "c.True\n",
    "d.False\n",
    "e.False\n",
    "f.True"
   ]
  },
  {
   "cell_type": "code",
   "execution_count": null,
   "id": "34718f29",
   "metadata": {},
   "outputs": [],
   "source": [
    "6.assignment(=) operator used to assign value to variable\n",
    "while equal to(==) is comparison operator used for comparing two values. It returns 1 if both the values are equal otherwise returns 0.\n"
   ]
  },
  {
   "cell_type": "code",
   "execution_count": null,
   "id": "a6193ef1",
   "metadata": {},
   "outputs": [],
   "source": [
    "7.a.spam==10\n",
    "b.spam>5\n",
    "c.else:"
   ]
  },
  {
   "cell_type": "code",
   "execution_count": 8,
   "id": "3d71aba3",
   "metadata": {},
   "outputs": [
    {
     "name": "stdout",
     "output_type": "stream",
     "text": [
      "greetings\n"
     ]
    }
   ],
   "source": [
    "spam = 23\n",
    "if spam == 1:\n",
    "    print('hello')\n",
    "elif spam == 2:\n",
    "    print('howdy')\n",
    "else :\n",
    "    print('greetings')"
   ]
  },
  {
   "cell_type": "code",
   "execution_count": null,
   "id": "6d5d1d1d",
   "metadata": {},
   "outputs": [],
   "source": [
    "ctrl+c"
   ]
  },
  {
   "cell_type": "code",
   "execution_count": null,
   "id": "46e493f1",
   "metadata": {},
   "outputs": [],
   "source": [
    "10.The break statement terminates the loop containing it.\n",
    "Control of the program flows to the statement immediately after the body of the loop.\n",
    "\n",
    "The continue statement is used to skip the rest of the code inside a loop for the current iteration only. \n",
    "Loop does not terminate but continues on with the next iteration."
   ]
  },
  {
   "cell_type": "code",
   "execution_count": 16,
   "id": "f1dc8208",
   "metadata": {},
   "outputs": [
    {
     "name": "stdout",
     "output_type": "stream",
     "text": [
      "1\n",
      "2\n",
      "3\n",
      "4\n",
      "5\n",
      "6\n",
      "7\n",
      "8\n",
      "9\n",
      "10\n"
     ]
    }
   ],
   "source": [
    "i = 1\n",
    "while i <= 10:\n",
    "  print(i)\n",
    "  i += 1"
   ]
  },
  {
   "cell_type": "code",
   "execution_count": 17,
   "id": "b9c120c7",
   "metadata": {},
   "outputs": [
    {
     "name": "stdout",
     "output_type": "stream",
     "text": [
      "1\n",
      "2\n",
      "3\n",
      "4\n",
      "5\n",
      "6\n",
      "7\n",
      "8\n",
      "9\n",
      "10\n"
     ]
    }
   ],
   "source": [
    "for i in range(1,11):\n",
    "    print(i)"
   ]
  },
  {
   "cell_type": "code",
   "execution_count": null,
   "id": "2a3e70e1",
   "metadata": {},
   "outputs": [],
   "source": [
    "11.range(10) contains dataset from 0 to 9\n",
    "range(0,10) is having same meaning as range(10) and exclude upper bound 10 i.e. 0 to 9\n",
    "range(0,10,1) having range from 0 to 9 with gap of 1 index i.e. 0,1,2,3,4,5,6,7,8,9"
   ]
  },
  {
   "cell_type": "code",
   "execution_count": 18,
   "id": "bc0bd795",
   "metadata": {},
   "outputs": [
    {
     "data": {
      "text/plain": [
       "[0, 1, 2, 3, 4, 5, 6, 7, 8, 9]"
      ]
     },
     "execution_count": 18,
     "metadata": {},
     "output_type": "execute_result"
    }
   ],
   "source": [
    "list(range(0,10,1))"
   ]
  },
  {
   "cell_type": "code",
   "execution_count": null,
   "id": "493acd61",
   "metadata": {},
   "outputs": [],
   "source": [
    "13.spam.bacon()"
   ]
  }
 ],
 "metadata": {
  "kernelspec": {
   "display_name": "Python 3 (ipykernel)",
   "language": "python",
   "name": "python3"
  },
  "language_info": {
   "codemirror_mode": {
    "name": "ipython",
    "version": 3
   },
   "file_extension": ".py",
   "mimetype": "text/x-python",
   "name": "python",
   "nbconvert_exporter": "python",
   "pygments_lexer": "ipython3",
   "version": "3.9.12"
  }
 },
 "nbformat": 4,
 "nbformat_minor": 5
}
